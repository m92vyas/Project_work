{
  "cells": [
    {
      "cell_type": "code",
      "execution_count": null,
      "metadata": {
        "id": "m4WhBU16uw61"
      },
      "outputs": [],
      "source": [
        "import pandas as pd\n",
        "import numpy as np\n",
        "\n",
        "import seaborn as sns\n",
        "import matplotlib.pyplot as plt\n",
        "\n",
        "import warnings\n",
        "warnings.filterwarnings('ignore')\n",
        "\n",
        "import xgboost as xgb\n",
        "\n",
        "from sklearn.compose import make_column_transformer\n",
        "from sklearn.feature_extraction.text import TfidfVectorizer\n",
        "from sklearn.preprocessing import MinMaxScaler\n",
        "\n",
        "from sklearn.pipeline import make_pipeline\n",
        "from sklearn.model_selection import train_test_split\n",
        "from sklearn.model_selection import ShuffleSplit\n",
        "from sklearn.model_selection import RandomizedSearchCV\n",
        "\n",
        "from scipy.sparse import csr_matrix\n",
        "from scipy.stats import uniform, loguniform, randint\n",
        "\n",
        "from sklearn.metrics import roc_auc_score\n",
        "from sklearn.metrics import roc_curve\n",
        "from sklearn.metrics import confusion_matrix\n",
        "from sklearn.metrics import ConfusionMatrixDisplay\n",
        "\n",
        "from google.colab import drive\n",
        "\n",
        "from sklearn.utils.validation import check_is_fitted\n",
        "from sklearn.base import BaseEstimator,TransformerMixin\n",
        "\n",
        "import nltk\n",
        "from nltk.sentiment.vader import SentimentIntensityAnalyzer\n",
        "\n",
        "import pickle\n",
        "\n",
        "from prettytable import PrettyTable"
      ]
    },
    {
      "cell_type": "code",
      "execution_count": null,
      "metadata": {
        "id": "8-lUDI0xvCTC"
      },
      "outputs": [],
      "source": [
        "pip install scikit-optimize"
      ]
    },
    {
      "cell_type": "code",
      "execution_count": null,
      "metadata": {
        "id": "b4wQqkkovF_i"
      },
      "outputs": [],
      "source": [
        "from skopt import BayesSearchCV"
      ]
    },
    {
      "cell_type": "code",
      "execution_count": null,
      "metadata": {
        "colab": {
          "base_uri": "https://localhost:8080/"
        },
        "id": "QuvIS85Yu4PL",
        "outputId": "e5de08c1-5c6a-43d0-c29f-2bc50af001b6"
      },
      "outputs": [
        {
          "output_type": "stream",
          "name": "stdout",
          "text": [
            "Mounted at /content/drive\n"
          ]
        }
      ],
      "source": [
        "drive.mount('/content/drive')"
      ]
    },
    {
      "cell_type": "markdown",
      "source": [
        "- Data contains various categorical, numerical and text features.\n",
        "\n",
        "- We have to predict whether the project application will get accepted or not.\n",
        "\n",
        "- https://www.kaggle.com/c/donorschoose-application-screening"
      ],
      "metadata": {
        "id": "x4WYF7f5Htt3"
      }
    },
    {
      "cell_type": "code",
      "execution_count": null,
      "metadata": {
        "id": "HTiJMG_4vayK",
        "colab": {
          "base_uri": "https://localhost:8080/",
          "height": 468
        },
        "outputId": "64a7d637-2d51-4373-b5ca-d91862a1795e"
      },
      "outputs": [
        {
          "output_type": "execute_result",
          "data": {
            "text/plain": [
              "   Unnamed: 0 school_state teacher_prefix project_grade_category  \\\n",
              "0           0           ca            mrs          grades_prek_2   \n",
              "1           1           ut             ms             grades_3_5   \n",
              "2           2           ca            mrs          grades_prek_2   \n",
              "\n",
              "   teacher_number_of_previously_posted_projects  project_is_approved  \\\n",
              "0                                            53                    1   \n",
              "1                                             4                    1   \n",
              "2                                            10                    1   \n",
              "\n",
              "    clean_categories                 clean_subcategories  \\\n",
              "0       math_science  appliedsciences health_lifescience   \n",
              "1       specialneeds                        specialneeds   \n",
              "2  literacy_language                            literacy   \n",
              "\n",
              "                                               essay   price  \\\n",
              "0  i fortunate enough use fairy tale stem kits cl...  725.05   \n",
              "1  imagine 8 9 years old you third grade classroo...  213.03   \n",
              "2  having class 24 students comes diverse learner...  329.00   \n",
              "\n",
              "                                     project_title  \n",
              "0        educational support english learners home  \n",
              "1                 wanted projector hungry learners  \n",
              "2  soccer equipment awesome middle school students  "
            ],
            "text/html": [
              "\n",
              "  <div id=\"df-bda11513-36a7-472b-8355-5c04c36737a4\">\n",
              "    <div class=\"colab-df-container\">\n",
              "      <div>\n",
              "<style scoped>\n",
              "    .dataframe tbody tr th:only-of-type {\n",
              "        vertical-align: middle;\n",
              "    }\n",
              "\n",
              "    .dataframe tbody tr th {\n",
              "        vertical-align: top;\n",
              "    }\n",
              "\n",
              "    .dataframe thead th {\n",
              "        text-align: right;\n",
              "    }\n",
              "</style>\n",
              "<table border=\"1\" class=\"dataframe\">\n",
              "  <thead>\n",
              "    <tr style=\"text-align: right;\">\n",
              "      <th></th>\n",
              "      <th>Unnamed: 0</th>\n",
              "      <th>school_state</th>\n",
              "      <th>teacher_prefix</th>\n",
              "      <th>project_grade_category</th>\n",
              "      <th>teacher_number_of_previously_posted_projects</th>\n",
              "      <th>project_is_approved</th>\n",
              "      <th>clean_categories</th>\n",
              "      <th>clean_subcategories</th>\n",
              "      <th>essay</th>\n",
              "      <th>price</th>\n",
              "      <th>project_title</th>\n",
              "    </tr>\n",
              "  </thead>\n",
              "  <tbody>\n",
              "    <tr>\n",
              "      <th>0</th>\n",
              "      <td>0</td>\n",
              "      <td>ca</td>\n",
              "      <td>mrs</td>\n",
              "      <td>grades_prek_2</td>\n",
              "      <td>53</td>\n",
              "      <td>1</td>\n",
              "      <td>math_science</td>\n",
              "      <td>appliedsciences health_lifescience</td>\n",
              "      <td>i fortunate enough use fairy tale stem kits cl...</td>\n",
              "      <td>725.05</td>\n",
              "      <td>educational support english learners home</td>\n",
              "    </tr>\n",
              "    <tr>\n",
              "      <th>1</th>\n",
              "      <td>1</td>\n",
              "      <td>ut</td>\n",
              "      <td>ms</td>\n",
              "      <td>grades_3_5</td>\n",
              "      <td>4</td>\n",
              "      <td>1</td>\n",
              "      <td>specialneeds</td>\n",
              "      <td>specialneeds</td>\n",
              "      <td>imagine 8 9 years old you third grade classroo...</td>\n",
              "      <td>213.03</td>\n",
              "      <td>wanted projector hungry learners</td>\n",
              "    </tr>\n",
              "    <tr>\n",
              "      <th>2</th>\n",
              "      <td>2</td>\n",
              "      <td>ca</td>\n",
              "      <td>mrs</td>\n",
              "      <td>grades_prek_2</td>\n",
              "      <td>10</td>\n",
              "      <td>1</td>\n",
              "      <td>literacy_language</td>\n",
              "      <td>literacy</td>\n",
              "      <td>having class 24 students comes diverse learner...</td>\n",
              "      <td>329.00</td>\n",
              "      <td>soccer equipment awesome middle school students</td>\n",
              "    </tr>\n",
              "  </tbody>\n",
              "</table>\n",
              "</div>\n",
              "      <button class=\"colab-df-convert\" onclick=\"convertToInteractive('df-bda11513-36a7-472b-8355-5c04c36737a4')\"\n",
              "              title=\"Convert this dataframe to an interactive table.\"\n",
              "              style=\"display:none;\">\n",
              "        \n",
              "  <svg xmlns=\"http://www.w3.org/2000/svg\" height=\"24px\"viewBox=\"0 0 24 24\"\n",
              "       width=\"24px\">\n",
              "    <path d=\"M0 0h24v24H0V0z\" fill=\"none\"/>\n",
              "    <path d=\"M18.56 5.44l.94 2.06.94-2.06 2.06-.94-2.06-.94-.94-2.06-.94 2.06-2.06.94zm-11 1L8.5 8.5l.94-2.06 2.06-.94-2.06-.94L8.5 2.5l-.94 2.06-2.06.94zm10 10l.94 2.06.94-2.06 2.06-.94-2.06-.94-.94-2.06-.94 2.06-2.06.94z\"/><path d=\"M17.41 7.96l-1.37-1.37c-.4-.4-.92-.59-1.43-.59-.52 0-1.04.2-1.43.59L10.3 9.45l-7.72 7.72c-.78.78-.78 2.05 0 2.83L4 21.41c.39.39.9.59 1.41.59.51 0 1.02-.2 1.41-.59l7.78-7.78 2.81-2.81c.8-.78.8-2.07 0-2.86zM5.41 20L4 18.59l7.72-7.72 1.47 1.35L5.41 20z\"/>\n",
              "  </svg>\n",
              "      </button>\n",
              "      \n",
              "  <style>\n",
              "    .colab-df-container {\n",
              "      display:flex;\n",
              "      flex-wrap:wrap;\n",
              "      gap: 12px;\n",
              "    }\n",
              "\n",
              "    .colab-df-convert {\n",
              "      background-color: #E8F0FE;\n",
              "      border: none;\n",
              "      border-radius: 50%;\n",
              "      cursor: pointer;\n",
              "      display: none;\n",
              "      fill: #1967D2;\n",
              "      height: 32px;\n",
              "      padding: 0 0 0 0;\n",
              "      width: 32px;\n",
              "    }\n",
              "\n",
              "    .colab-df-convert:hover {\n",
              "      background-color: #E2EBFA;\n",
              "      box-shadow: 0px 1px 2px rgba(60, 64, 67, 0.3), 0px 1px 3px 1px rgba(60, 64, 67, 0.15);\n",
              "      fill: #174EA6;\n",
              "    }\n",
              "\n",
              "    [theme=dark] .colab-df-convert {\n",
              "      background-color: #3B4455;\n",
              "      fill: #D2E3FC;\n",
              "    }\n",
              "\n",
              "    [theme=dark] .colab-df-convert:hover {\n",
              "      background-color: #434B5C;\n",
              "      box-shadow: 0px 1px 3px 1px rgba(0, 0, 0, 0.15);\n",
              "      filter: drop-shadow(0px 1px 2px rgba(0, 0, 0, 0.3));\n",
              "      fill: #FFFFFF;\n",
              "    }\n",
              "  </style>\n",
              "\n",
              "      <script>\n",
              "        const buttonEl =\n",
              "          document.querySelector('#df-bda11513-36a7-472b-8355-5c04c36737a4 button.colab-df-convert');\n",
              "        buttonEl.style.display =\n",
              "          google.colab.kernel.accessAllowed ? 'block' : 'none';\n",
              "\n",
              "        async function convertToInteractive(key) {\n",
              "          const element = document.querySelector('#df-bda11513-36a7-472b-8355-5c04c36737a4');\n",
              "          const dataTable =\n",
              "            await google.colab.kernel.invokeFunction('convertToInteractive',\n",
              "                                                     [key], {});\n",
              "          if (!dataTable) return;\n",
              "\n",
              "          const docLinkHtml = 'Like what you see? Visit the ' +\n",
              "            '<a target=\"_blank\" href=https://colab.research.google.com/notebooks/data_table.ipynb>data table notebook</a>'\n",
              "            + ' to learn more about interactive tables.';\n",
              "          element.innerHTML = '';\n",
              "          dataTable['output_type'] = 'display_data';\n",
              "          await google.colab.output.renderOutput(dataTable, element);\n",
              "          const docLink = document.createElement('div');\n",
              "          docLink.innerHTML = docLinkHtml;\n",
              "          element.appendChild(docLink);\n",
              "        }\n",
              "      </script>\n",
              "    </div>\n",
              "  </div>\n",
              "  "
            ]
          },
          "metadata": {},
          "execution_count": 3
        }
      ],
      "source": [
        "data=pd.read_csv('/content/drive/MyDrive/preprocessed_data_title.csv',nrows=35000)\n",
        "data.head(3)"
      ]
    },
    {
      "cell_type": "code",
      "execution_count": null,
      "metadata": {
        "id": "KNk2c7tJvVCq"
      },
      "outputs": [],
      "source": [
        "data=data.drop(['Unnamed: 0'],axis=1)"
      ]
    },
    {
      "cell_type": "code",
      "execution_count": null,
      "metadata": {
        "colab": {
          "base_uri": "https://localhost:8080/"
        },
        "id": "A-x3Wzlnvesx",
        "outputId": "239ba93b-b0cd-4148-8ac8-bcb89d0bfb90"
      },
      "outputs": [
        {
          "name": "stdout",
          "output_type": "stream",
          "text": [
            "20\n"
          ]
        }
      ],
      "source": [
        "#some project_title have nan values. replacing them with empty string.\n",
        "\n",
        "not_string=[]\n",
        "for i in range(len(data)):\n",
        "  if type(data.project_title.values[i]) != str:\n",
        "    data['project_title'][i] = ''\n",
        "    not_string.append(i)\n",
        "print(len(not_string))"
      ]
    },
    {
      "cell_type": "code",
      "execution_count": null,
      "metadata": {
        "id": "bF4AwUJvvlHF"
      },
      "outputs": [],
      "source": [
        "y = data['project_is_approved'].values\n",
        "X = data.drop(['project_is_approved'], axis=1)\n",
        "X_train, X_test, y_train, y_test = train_test_split(X, y, test_size=0.33, stratify=y,random_state=15)"
      ]
    },
    {
      "cell_type": "markdown",
      "metadata": {
        "id": "SgYZFHvnrdwb"
      },
      "source": [
        "# **Set-1**"
      ]
    },
    {
      "cell_type": "markdown",
      "metadata": {
        "id": "gK99OQidsAnl"
      },
      "source": [
        "<h3>Encoding features:</h3>"
      ]
    },
    {
      "cell_type": "markdown",
      "metadata": {
        "id": "Loo-XBhUsRz2"
      },
      "source": [
        "- Using column transformer to encode and stack features.\n",
        "- Making custom transformer for response encoding and sentiment score."
      ]
    },
    {
      "cell_type": "code",
      "execution_count": null,
      "metadata": {
        "id": "7WI7lWPqQXUw"
      },
      "outputs": [],
      "source": [
        "class ResponseEncoding(BaseEstimator, TransformerMixin):\n",
        "\n",
        "  def __init__(self):\n",
        "    super().__init__()\n",
        "\n",
        "  def fit(self,x,y):\n",
        "    if isinstance(x, pd.Series):\n",
        "      x=x.values\n",
        "    if isinstance(x, np.ndarray):\n",
        "      if len(x) != len(y):\n",
        "        print('x and y should be of same length')\n",
        "      else:\n",
        "        x_0 = x[np.where(y==0)[0]]\n",
        "        x_1 = x[np.where(y==1)[0]]\n",
        "        x_unique, counts = np.unique(x, return_counts=True)\n",
        "        prob = []\n",
        "        for i in range(len(x_unique)):\n",
        "          prob.append(np.array([len(np.where(x_0==x_unique[i])[0]),len(np.where(x_1==x_unique[i])[0])]) / counts[i])\n",
        "        x_prob = {a:b for a,b in zip(x_unique,prob)}\n",
        "        self.x_unique_ = x_unique\n",
        "        self.x_prob_ = x_prob\n",
        "        return self\n",
        "    else:\n",
        "      print('dtype of x should be pandas.series or numpy.ndarray')\n",
        "\n",
        "  def transform(self,x):\n",
        "    check_is_fitted(self,msg=\"fit data before transform\")\n",
        "    x_transform = []\n",
        "    for i in x:\n",
        "      try:\n",
        "        x_transform.append(self.x_prob_[i])\n",
        "      except KeyError:  #https://stackoverflow.com/questions/6380290/python-if-error-raised-i-want-to-stay-in-script\n",
        "        x_transform.append(np.array([0.5,0.5]))\n",
        "    return np.array(x_transform)\n",
        "\n",
        "  def fit_transform(self,x,y):\n",
        "    return self.fit(x,y).transform(x)"
      ]
    },
    {
      "cell_type": "code",
      "execution_count": null,
      "metadata": {
        "colab": {
          "base_uri": "https://localhost:8080/"
        },
        "id": "A4aIN_mAUy45",
        "outputId": "62d837f4-4dff-4fd4-8f97-042db14cdf34"
      },
      "outputs": [
        {
          "data": {
            "text/plain": [
              "array([[0.14736842, 0.85263158],\n",
              "       [0.13578275, 0.86421725],\n",
              "       [0.15481833, 0.84518167],\n",
              "       ...,\n",
              "       [0.1350211 , 0.8649789 ],\n",
              "       [0.13193305, 0.86806695],\n",
              "       [0.13193305, 0.86806695]])"
            ]
          },
          "execution_count": 35,
          "metadata": {},
          "output_type": "execute_result"
        }
      ],
      "source": [
        "r=ResponseEncoding()\n",
        "r.fit_transform(X_train.school_state.values,y_train)"
      ]
    },
    {
      "cell_type": "code",
      "execution_count": null,
      "metadata": {
        "colab": {
          "base_uri": "https://localhost:8080/"
        },
        "id": "_CKatPEiwFdR",
        "outputId": "349c4c72-103a-4817-e314-783734d5cb9e"
      },
      "outputs": [
        {
          "name": "stderr",
          "output_type": "stream",
          "text": [
            "[nltk_data] Downloading package vader_lexicon to /root/nltk_data...\n"
          ]
        },
        {
          "data": {
            "text/plain": [
              "True"
            ]
          },
          "execution_count": 17,
          "metadata": {},
          "output_type": "execute_result"
        }
      ],
      "source": [
        "nltk.download('vader_lexicon')"
      ]
    },
    {
      "cell_type": "code",
      "execution_count": null,
      "metadata": {
        "id": "GtROUUAdwH13"
      },
      "outputs": [],
      "source": [
        "class SentimentScore( SentimentIntensityAnalyzer , BaseEstimator , TransformerMixin ):\n",
        "\n",
        "  def __init__(self):\n",
        "    super().__init__()\n",
        "\n",
        "  def fit(self,raw_documents,y=None):\n",
        "    return self\n",
        "\n",
        "  def transform(self,raw_documents,y=None):\n",
        "    sentiment_scores = []\n",
        "    for sentence in raw_documents:\n",
        "      sentiment_scores.append( list(super().polarity_scores(sentence).values()) )\n",
        "    return np.array(sentiment_scores)\n",
        "\n",
        "  def fit_transform(self, raw_documents, y=None):\n",
        "    return self.fit(raw_documents).transform(raw_documents)"
      ]
    },
    {
      "cell_type": "code",
      "execution_count": null,
      "metadata": {
        "colab": {
          "base_uri": "https://localhost:8080/"
        },
        "id": "NLzK8NcXW9Po",
        "outputId": "c061163b-511d-4fb6-8673-bdcaf65e633b"
      },
      "outputs": [
        {
          "data": {
            "text/plain": [
              "array([[0.    , 0.651 , 0.349 , 0.9936],\n",
              "       [0.041 , 0.836 , 0.122 , 0.8934],\n",
              "       [0.015 , 0.714 , 0.271 , 0.984 ],\n",
              "       [0.012 , 0.639 , 0.349 , 0.9943],\n",
              "       [0.072 , 0.567 , 0.362 , 0.9959]])"
            ]
          },
          "execution_count": 44,
          "metadata": {},
          "output_type": "execute_result"
        }
      ],
      "source": [
        "s = SentimentScore()\n",
        "s.fit_transform(X_train.essay[:5])"
      ]
    },
    {
      "cell_type": "code",
      "execution_count": null,
      "metadata": {
        "id": "Fm0ukq4wwKCf"
      },
      "outputs": [],
      "source": [
        "transform_set1 = make_column_transformer(\n",
        "    ( TfidfVectorizer(max_df=0.85,stop_words='english') , (6) ), #tfidf on essay\n",
        "    ( TfidfVectorizer(max_df=0.85,stop_words='english') , (8) ), #tfidf on title\n",
        "    ( SentimentScore() , (6) ), #sentiment score of essay\n",
        "    ( ResponseEncoding(), (0) ), #response encoding of categorical features.\n",
        "    ( ResponseEncoding(), (1) ),\n",
        "    ( ResponseEncoding(), (2) ),\n",
        "    ( ResponseEncoding(), (4) ),\n",
        "    ( ResponseEncoding(), (5) ),\n",
        "    ( MinMaxScaler() , (3,7) ), #normalizing numerical features \n",
        "    )"
      ]
    },
    {
      "cell_type": "code",
      "execution_count": null,
      "metadata": {
        "id": "joOc9XpJTrwo"
      },
      "outputs": [],
      "source": [
        "a=transform_set1.fit_transform(X_train,y_train)"
      ]
    },
    {
      "cell_type": "code",
      "execution_count": null,
      "metadata": {
        "colab": {
          "base_uri": "https://localhost:8080/"
        },
        "id": "HBpO_7SBT8uQ",
        "outputId": "4703aa73-168f-48d5-d519-8d7ba2478b5d"
      },
      "outputs": [
        {
          "data": {
            "text/plain": [
              "{'tfidfvectorizer-1': slice(0, 30412, None),\n",
              " 'tfidfvectorizer-2': slice(30412, 38428, None),\n",
              " 'sentimentscore': slice(38428, 38432, None),\n",
              " 'responseencoding-1': slice(38432, 38434, None),\n",
              " 'responseencoding-2': slice(38434, 38436, None),\n",
              " 'responseencoding-3': slice(38436, 38438, None),\n",
              " 'responseencoding-4': slice(38438, 38440, None),\n",
              " 'responseencoding-5': slice(38440, 38442, None),\n",
              " 'minmaxscaler': slice(38442, 38444, None),\n",
              " 'remainder': slice(0, 0, None)}"
            ]
          },
          "execution_count": 47,
          "metadata": {},
          "output_type": "execute_result"
        }
      ],
      "source": [
        "transform_set1.output_indices_"
      ]
    },
    {
      "cell_type": "markdown",
      "metadata": {
        "id": "mof2fxm7y4Pt"
      },
      "source": [
        "<h3>Using BayesSearchCV to choose hyperparameter</h3> "
      ]
    },
    {
      "cell_type": "markdown",
      "metadata": {
        "id": "3mB0tqUiszut"
      },
      "source": [
        "- Using 35k points to search hyperparameter then trying value of hyperparameter obtained by bayes search on full 100k+ data."
      ]
    },
    {
      "cell_type": "code",
      "execution_count": null,
      "metadata": {
        "colab": {
          "base_uri": "https://localhost:8080/"
        },
        "id": "jiWEVhZ252US",
        "outputId": "7c0fceb5-fca4-4e34-9a39-60f02f440a7e"
      },
      "outputs": [
        {
          "name": "stdout",
          "output_type": "stream",
          "text": [
            "Fitting 1 folds for each of 1 candidates, totalling 1 fits\n",
            "[CV 1/1] END xgbclassifier__colsample_bytree=1, xgbclassifier__lambda=48.638024885491454, xgbclassifier__learning_rate=0.6563238423070459, xgbclassifier__max_depth =9, xgbclassifier__n_estimators=7, xgbclassifier__scale_pos_weight=0.8354705593140223, xgbclassifier__subsample=1;, score=(train=0.731, test=0.660) total time=  56.2s\n",
            "Fitting 1 folds for each of 1 candidates, totalling 1 fits\n",
            "[CV 1/1] END xgbclassifier__colsample_bytree=1, xgbclassifier__lambda=851.3460657097762, xgbclassifier__learning_rate=0.7205628458255517, xgbclassifier__max_depth =6, xgbclassifier__n_estimators=46, xgbclassifier__scale_pos_weight=0.6607299050010399, xgbclassifier__subsample=1;, score=(train=0.865, test=0.676) total time= 1.1min\n",
            "Fitting 1 folds for each of 1 candidates, totalling 1 fits\n",
            "[CV 1/1] END xgbclassifier__colsample_bytree=1, xgbclassifier__lambda=73.70685576039314, xgbclassifier__learning_rate=0.4871592213943209, xgbclassifier__max_depth =7, xgbclassifier__n_estimators=4, xgbclassifier__scale_pos_weight=0.23082198735164317, xgbclassifier__subsample=1;, score=(train=0.704, test=0.640) total time=  51.7s\n",
            "Fitting 1 folds for each of 1 candidates, totalling 1 fits\n",
            "[CV 1/1] END xgbclassifier__colsample_bytree=1, xgbclassifier__lambda=0.44992625046750434, xgbclassifier__learning_rate=0.9556927360083335, xgbclassifier__max_depth =3, xgbclassifier__n_estimators=23, xgbclassifier__scale_pos_weight=0.7623133136700797, xgbclassifier__subsample=1;, score=(train=0.815, test=0.671) total time=  58.7s\n",
            "Fitting 1 folds for each of 1 candidates, totalling 1 fits\n",
            "[CV 1/1] END xgbclassifier__colsample_bytree=1, xgbclassifier__lambda=0.001472742358212625, xgbclassifier__learning_rate=0.14149171774762487, xgbclassifier__max_depth =3, xgbclassifier__n_estimators=32, xgbclassifier__scale_pos_weight=0.6334887445668863, xgbclassifier__subsample=1;, score=(train=0.771, test=0.678) total time= 1.0min\n",
            "Fitting 1 folds for each of 1 candidates, totalling 1 fits\n",
            "[CV 1/1] END xgbclassifier__colsample_bytree=1, xgbclassifier__lambda=0.005085207229474573, xgbclassifier__learning_rate=0.5636664651943362, xgbclassifier__max_depth =5, xgbclassifier__n_estimators=48, xgbclassifier__scale_pos_weight=0.3601164759199484, xgbclassifier__subsample=1;, score=(train=0.867, test=0.686) total time= 1.1min\n",
            "Fitting 1 folds for each of 1 candidates, totalling 1 fits\n",
            "[CV 1/1] END xgbclassifier__colsample_bytree=1, xgbclassifier__lambda=14.97031198115461, xgbclassifier__learning_rate=0.3303099459346578, xgbclassifier__max_depth =9, xgbclassifier__n_estimators=49, xgbclassifier__scale_pos_weight=0.6093291055605305, xgbclassifier__subsample=1;, score=(train=0.841, test=0.691) total time= 1.0min\n",
            "Fitting 1 folds for each of 1 candidates, totalling 1 fits\n",
            "[CV 1/1] END xgbclassifier__colsample_bytree=1, xgbclassifier__lambda=2.506148831465841, xgbclassifier__learning_rate=0.1812041182415376, xgbclassifier__max_depth =7, xgbclassifier__n_estimators=14, xgbclassifier__scale_pos_weight=0.8556153746308005, xgbclassifier__subsample=1;, score=(train=0.730, test=0.664) total time=  54.5s\n",
            "Fitting 1 folds for each of 1 candidates, totalling 1 fits\n",
            "[CV 1/1] END xgbclassifier__colsample_bytree=1, xgbclassifier__lambda=91.30524051401521, xgbclassifier__learning_rate=0.8989257061130304, xgbclassifier__max_depth =9, xgbclassifier__n_estimators=34, xgbclassifier__scale_pos_weight=0.48479710127504505, xgbclassifier__subsample=1;, score=(train=0.851, test=0.682) total time=  59.2s\n",
            "Fitting 1 folds for each of 1 candidates, totalling 1 fits\n",
            "[CV 1/1] END xgbclassifier__colsample_bytree=1, xgbclassifier__lambda=3.671535633996413, xgbclassifier__learning_rate=0.21442497543067032, xgbclassifier__max_depth =6, xgbclassifier__n_estimators=16, xgbclassifier__scale_pos_weight=0.7560061006796357, xgbclassifier__subsample=1;, score=(train=0.747, test=0.661) total time=  57.1s\n"
          ]
        },
        {
          "data": {
            "text/plain": [
              "BayesSearchCV(cv=ShuffleSplit(n_splits=1, random_state=5, test_size=0.2, train_size=None),\n",
              "              estimator=Pipeline(steps=[('columntransformer',\n",
              "                                         ColumnTransformer(transformers=[('tfidfvectorizer-1',\n",
              "                                                                          TfidfVectorizer(max_df=0.85,\n",
              "                                                                                          stop_words='english'),\n",
              "                                                                          6),\n",
              "                                                                         ('tfidfvectorizer-2',\n",
              "                                                                          TfidfVectorizer(max_df=0.85,\n",
              "                                                                                          stop_words='english'),\n",
              "                                                                          8),\n",
              "                                                                         ('sentimentscore',\n",
              "                                                                          SentimentScore(),\n",
              "                                                                          6...\n",
              "              search_spaces={'xgbclassifier__colsample_bytree': (0.7, 1,\n",
              "                                                                 'uniform'),\n",
              "                             'xgbclassifier__lambda': (0.0001, 1000.0,\n",
              "                                                       'log-uniform'),\n",
              "                             'xgbclassifier__learning_rate': (0.1, 0.99,\n",
              "                                                              'uniform'),\n",
              "                             'xgbclassifier__max_depth ': (1, 10),\n",
              "                             'xgbclassifier__n_estimators': (3, 50),\n",
              "                             'xgbclassifier__scale_pos_weight': (0.15, 0.99,\n",
              "                                                                 'uniform'),\n",
              "                             'xgbclassifier__subsample': (0.7, 1, 'uniform')},\n",
              "              verbose=4)"
            ]
          },
          "execution_count": 93,
          "metadata": {},
          "output_type": "execute_result"
        }
      ],
      "source": [
        "pipe_set1 = make_pipeline( transform_set1 , xgb.XGBClassifier(random_state=15,eval_metric='auc') )\n",
        "\n",
        "#https://scikit-optimize.github.io/stable/modules/generated/skopt.BayesSearchCV.html\n",
        "#https://scikit-optimize.github.io/stable/auto_examples/sklearn-gridsearchcv-replacement.html#\n",
        "\n",
        "search_space = {\n",
        "         'xgbclassifier__max_depth ':(1,10),\n",
        "         'xgbclassifier__n_estimators':(3,50),\n",
        "         'xgbclassifier__learning_rate':(0.1, .99, 'uniform'),\n",
        "         'xgbclassifier__subsample':(0.7, 1, 'uniform'),\n",
        "         'xgbclassifier__colsample_bytree':(0.7, 1, 'uniform'),\n",
        "         'xgbclassifier__lambda':(1e-4, 1e+3,'log-uniform'),\n",
        "         'xgbclassifier__scale_pos_weight':(0.15,.99,'uniform')\n",
        "         }\n",
        "\n",
        "\n",
        "cv = ShuffleSplit(test_size=0.20, n_splits=1, random_state=5) #https://stackoverflow.com/questions/29503689/how-to-run-gridsearchcv-without-cross-validation\n",
        "\n",
        "opt = BayesSearchCV(pipe_set1, search_space , n_iter=10, cv=cv, verbose=4,return_train_score=True, scoring='roc_auc',refit=True,random_state=22)\n",
        "\n",
        "opt.fit(X_train, y_train)"
      ]
    },
    {
      "cell_type": "code",
      "execution_count": null,
      "metadata": {
        "colab": {
          "base_uri": "https://localhost:8080/",
          "height": 458
        },
        "id": "p626zeqaXvHx",
        "outputId": "ab851b00-5e55-4b6c-fa7d-52cc6d1395aa"
      },
      "outputs": [
        {
          "data": {
            "image/png": "[encoded data removed]",
            "text/plain": [
              "<Figure size 864x504 with 1 Axes>"
            ]
          },
          "metadata": {},
          "output_type": "display_data"
        }
      ],
      "source": [
        "sns.set_style(\"whitegrid\")\n",
        "plt.figure(figsize=(12,7))\n",
        "sns.lineplot(np.arange(10), y=opt.cv_results_['mean_train_score'], label='mean train auc score')\n",
        "sns.lineplot(np.arange(10), y=opt.cv_results_['mean_test_score'], label='mean cv auc score')\n",
        "plt.xticks(np.arange(10))\n",
        "plt.yticks(np.arange(0.45,1,0.025))\n",
        "plt.tick_params(labelright=True)\n",
        "plt.xlabel('index no. of search result')\n",
        "plt.ylabel('mean train and cv auc score')\n",
        "plt.title('Train & CV curve for hyperparameter selection')\n",
        "plt.legend()\n",
        "plt.show()"
      ]
    },
    {
      "cell_type": "markdown",
      "metadata": {
        "id": "afubQiuUPDGi"
      },
      "source": [
        "- Index no. 0, 2, 7, 9 are looking good.\n",
        "- Getting hyperparameter values of search index - 0, 2, 7, 9 in table format."
      ]
    },
    {
      "cell_type": "code",
      "execution_count": null,
      "metadata": {
        "colab": {
          "base_uri": "https://localhost:8080/",
          "height": 175
        },
        "id": "6YMbkZ45PQ5O",
        "outputId": "84168efa-e0d7-41bc-c23a-4c3b9f40ab8c"
      },
      "outputs": [
        {
          "data": {
            "text/html": [
              "\n",
              "  <div id=\"df-c44d697a-1909-4303-bea0-6bca3bee458a\">\n",
              "    <div class=\"colab-df-container\">\n",
              "      <div>\n",
              "<style scoped>\n",
              "    .dataframe tbody tr th:only-of-type {\n",
              "        vertical-align: middle;\n",
              "    }\n",
              "\n",
              "    .dataframe tbody tr th {\n",
              "        vertical-align: top;\n",
              "    }\n",
              "\n",
              "    .dataframe thead th {\n",
              "        text-align: right;\n",
              "    }\n",
              "</style>\n",
              "<table border=\"1\" class=\"dataframe\">\n",
              "  <thead>\n",
              "    <tr style=\"text-align: right;\">\n",
              "      <th></th>\n",
              "      <th>colsample</th>\n",
              "      <th>lambda</th>\n",
              "      <th>learning_rate</th>\n",
              "      <th>max_depth</th>\n",
              "      <th>n_estimators</th>\n",
              "      <th>scale_pos_weight</th>\n",
              "      <th>subsample</th>\n",
              "      <th>train auc</th>\n",
              "      <th>test auc</th>\n",
              "      <th>diff in auc</th>\n",
              "    </tr>\n",
              "  </thead>\n",
              "  <tbody>\n",
              "    <tr>\n",
              "      <th>0</th>\n",
              "      <td>1</td>\n",
              "      <td>48.638025</td>\n",
              "      <td>0.656324</td>\n",
              "      <td>9</td>\n",
              "      <td>7</td>\n",
              "      <td>0.835471</td>\n",
              "      <td>1</td>\n",
              "      <td>0.730818</td>\n",
              "      <td>0.659583</td>\n",
              "      <td>0.071236</td>\n",
              "    </tr>\n",
              "    <tr>\n",
              "      <th>2</th>\n",
              "      <td>1</td>\n",
              "      <td>73.706856</td>\n",
              "      <td>0.487159</td>\n",
              "      <td>7</td>\n",
              "      <td>4</td>\n",
              "      <td>0.230822</td>\n",
              "      <td>1</td>\n",
              "      <td>0.704324</td>\n",
              "      <td>0.640185</td>\n",
              "      <td>0.064139</td>\n",
              "    </tr>\n",
              "    <tr>\n",
              "      <th>7</th>\n",
              "      <td>1</td>\n",
              "      <td>2.506149</td>\n",
              "      <td>0.181204</td>\n",
              "      <td>7</td>\n",
              "      <td>14</td>\n",
              "      <td>0.855615</td>\n",
              "      <td>1</td>\n",
              "      <td>0.730138</td>\n",
              "      <td>0.664309</td>\n",
              "      <td>0.065829</td>\n",
              "    </tr>\n",
              "    <tr>\n",
              "      <th>9</th>\n",
              "      <td>1</td>\n",
              "      <td>3.671536</td>\n",
              "      <td>0.214425</td>\n",
              "      <td>6</td>\n",
              "      <td>16</td>\n",
              "      <td>0.756006</td>\n",
              "      <td>1</td>\n",
              "      <td>0.747369</td>\n",
              "      <td>0.660829</td>\n",
              "      <td>0.086540</td>\n",
              "    </tr>\n",
              "  </tbody>\n",
              "</table>\n",
              "</div>\n",
              "      <button class=\"colab-df-convert\" onclick=\"convertToInteractive('df-c44d697a-1909-4303-bea0-6bca3bee458a')\"\n",
              "              title=\"Convert this dataframe to an interactive table.\"\n",
              "              style=\"display:none;\">\n",
              "        \n",
              "  <svg xmlns=\"http://www.w3.org/2000/svg\" height=\"24px\"viewBox=\"0 0 24 24\"\n",
              "       width=\"24px\">\n",
              "    <path d=\"M0 0h24v24H0V0z\" fill=\"none\"/>\n",
              "    <path d=\"M18.56 5.44l.94 2.06.94-2.06 2.06-.94-2.06-.94-.94-2.06-.94 2.06-2.06.94zm-11 1L8.5 8.5l.94-2.06 2.06-.94-2.06-.94L8.5 2.5l-.94 2.06-2.06.94zm10 10l.94 2.06.94-2.06 2.06-.94-2.06-.94-.94-2.06-.94 2.06-2.06.94z\"/><path d=\"M17.41 7.96l-1.37-1.37c-.4-.4-.92-.59-1.43-.59-.52 0-1.04.2-1.43.59L10.3 9.45l-7.72 7.72c-.78.78-.78 2.05 0 2.83L4 21.41c.39.39.9.59 1.41.59.51 0 1.02-.2 1.41-.59l7.78-7.78 2.81-2.81c.8-.78.8-2.07 0-2.86zM5.41 20L4 18.59l7.72-7.72 1.47 1.35L5.41 20z\"/>\n",
              "  </svg>\n",
              "      </button>\n",
              "      \n",
              "  <style>\n",
              "    .colab-df-container {\n",
              "      display:flex;\n",
              "      flex-wrap:wrap;\n",
              "      gap: 12px;\n",
              "    }\n",
              "\n",
              "    .colab-df-convert {\n",
              "      background-color: #E8F0FE;\n",
              "      border: none;\n",
              "      border-radius: 50%;\n",
              "      cursor: pointer;\n",
              "      display: none;\n",
              "      fill: #1967D2;\n",
              "      height: 32px;\n",
              "      padding: 0 0 0 0;\n",
              "      width: 32px;\n",
              "    }\n",
              "\n",
              "    .colab-df-convert:hover {\n",
              "      background-color: #E2EBFA;\n",
              "      box-shadow: 0px 1px 2px rgba(60, 64, 67, 0.3), 0px 1px 3px 1px rgba(60, 64, 67, 0.15);\n",
              "      fill: #174EA6;\n",
              "    }\n",
              "\n",
              "    [theme=dark] .colab-df-convert {\n",
              "      background-color: #3B4455;\n",
              "      fill: #D2E3FC;\n",
              "    }\n",
              "\n",
              "    [theme=dark] .colab-df-convert:hover {\n",
              "      background-color: #434B5C;\n",
              "      box-shadow: 0px 1px 3px 1px rgba(0, 0, 0, 0.15);\n",
              "      filter: drop-shadow(0px 1px 2px rgba(0, 0, 0, 0.3));\n",
              "      fill: #FFFFFF;\n",
              "    }\n",
              "  </style>\n",
              "\n",
              "      <script>\n",
              "        const buttonEl =\n",
              "          document.querySelector('#df-c44d697a-1909-4303-bea0-6bca3bee458a button.colab-df-convert');\n",
              "        buttonEl.style.display =\n",
              "          google.colab.kernel.accessAllowed ? 'block' : 'none';\n",
              "\n",
              "        async function convertToInteractive(key) {\n",
              "          const element = document.querySelector('#df-c44d697a-1909-4303-bea0-6bca3bee458a');\n",
              "          const dataTable =\n",
              "            await google.colab.kernel.invokeFunction('convertToInteractive',\n",
              "                                                     [key], {});\n",
              "          if (!dataTable) return;\n",
              "\n",
              "          const docLinkHtml = 'Like what you see? Visit the ' +\n",
              "            '<a target=\"_blank\" href=https://colab.research.google.com/notebooks/data_table.ipynb>data table notebook</a>'\n",
              "            + ' to learn more about interactive tables.';\n",
              "          element.innerHTML = '';\n",
              "          dataTable['output_type'] = 'display_data';\n",
              "          await google.colab.output.renderOutput(dataTable, element);\n",
              "          const docLink = document.createElement('div');\n",
              "          docLink.innerHTML = docLinkHtml;\n",
              "          element.appendChild(docLink);\n",
              "        }\n",
              "      </script>\n",
              "    </div>\n",
              "  </div>\n",
              "  "
            ],
            "text/plain": [
              "   colsample     lambda  learning_rate  max_depth  n_estimators  \\\n",
              "0          1  48.638025       0.656324          9             7   \n",
              "2          1  73.706856       0.487159          7             4   \n",
              "7          1   2.506149       0.181204          7            14   \n",
              "9          1   3.671536       0.214425          6            16   \n",
              "\n",
              "   scale_pos_weight  subsample  train auc  test auc  diff in auc  \n",
              "0          0.835471          1   0.730818  0.659583     0.071236  \n",
              "2          0.230822          1   0.704324  0.640185     0.064139  \n",
              "7          0.855615          1   0.730138  0.664309     0.065829  \n",
              "9          0.756006          1   0.747369  0.660829     0.086540  "
            ]
          },
          "execution_count": 105,
          "metadata": {},
          "output_type": "execute_result"
        }
      ],
      "source": [
        "result=pd.DataFrame([opt.cv_results_['params'][0],opt.cv_results_['params'][2],opt.cv_results_['params'][7],opt.cv_results_['params'][9]],index=[0,2,7,9])\n",
        "result.columns=['colsample','lambda','learning_rate','max_depth','n_estimators','scale_pos_weight','subsample']\n",
        "result['train auc']=opt.cv_results_['mean_train_score'][[0,2,7,9]]\n",
        "result['test auc']=opt.cv_results_['mean_test_score'][[0,2,7,9]]\n",
        "result['diff in auc']=opt.cv_results_['mean_train_score'][[0,2,7,9]]-opt.cv_results_['mean_test_score'][[0,2,7,9]]\n",
        "result"
      ]
    },
    {
      "cell_type": "markdown",
      "metadata": {
        "id": "uaYYWAd1vN_V"
      },
      "source": [
        "- Selecting index no. 7."
      ]
    },
    {
      "cell_type": "markdown",
      "metadata": {
        "id": "_1dj0_6SvmSQ"
      },
      "source": [
        "Plotting of heatmap or 3d plot not possible as we have many hyperparameters. Using above graph and table to select best hyperparameter. "
      ]
    },
    {
      "cell_type": "markdown",
      "metadata": {
        "id": "csY-DwOpucJW"
      },
      "source": [
        "<h3>Training on whole X_train:</h3>"
      ]
    },
    {
      "cell_type": "code",
      "execution_count": null,
      "metadata": {
        "id": "U-oKO5G-UoAG"
      },
      "outputs": [],
      "source": [
        "df=pd.read_csv('/content/drive/MyDrive/preprocessed_data_title.csv')"
      ]
    },
    {
      "cell_type": "code",
      "execution_count": null,
      "metadata": {
        "id": "RS9cF6JDUoAG"
      },
      "outputs": [],
      "source": [
        "df=df.drop(['Unnamed: 0'],axis=1)"
      ]
    },
    {
      "cell_type": "code",
      "execution_count": null,
      "metadata": {
        "colab": {
          "base_uri": "https://localhost:8080/"
        },
        "id": "txPJkmjkUoAG",
        "outputId": "0dc07476-ad56-4fe4-f02d-5c8e6bd54dd9"
      },
      "outputs": [
        {
          "name": "stdout",
          "output_type": "stream",
          "text": [
            "43\n"
          ]
        }
      ],
      "source": [
        "#some project_title have nan values. replacing them with empty string.\n",
        "\n",
        "not_string=[]\n",
        "for i in range(len(df)):\n",
        "  if type(df.project_title.values[i]) != str:\n",
        "    df['project_title'][i] = ''\n",
        "    not_string.append(i)\n",
        "print(len(not_string))"
      ]
    },
    {
      "cell_type": "code",
      "execution_count": null,
      "metadata": {
        "id": "GAK63q3uUoAG"
      },
      "outputs": [],
      "source": [
        "y = df['project_is_approved'].values\n",
        "X = df.drop(['project_is_approved'], axis=1)\n",
        "X_train, X_test, y_train, y_test = train_test_split(X, y, test_size=0.33, stratify=y,random_state=15)"
      ]
    },
    {
      "cell_type": "code",
      "execution_count": null,
      "metadata": {
        "colab": {
          "base_uri": "https://localhost:8080/"
        },
        "id": "0UHfysUhVQOz",
        "outputId": "51ce0fde-62eb-489d-ba12-5f9bf06fc12f"
      },
      "outputs": [
        {
          "data": {
            "text/plain": [
              "73196"
            ]
          },
          "execution_count": 110,
          "metadata": {},
          "output_type": "execute_result"
        }
      ],
      "source": [
        "len(X_train)"
      ]
    },
    {
      "cell_type": "code",
      "execution_count": null,
      "metadata": {
        "colab": {
          "base_uri": "https://localhost:8080/"
        },
        "id": "5lQ3PJqYWpCg",
        "outputId": "af6f84e8-842d-42b2-9bb9-282e7cb2849c"
      },
      "outputs": [
        {
          "name": "stdout",
          "output_type": "stream",
          "text": [
            "Train AUC Score: 0.6848275008793999\n",
            "Test AUC Score: 0.6710297413727471\n",
            "Confusion Matrix - Train:\n",
            " [[0. 1.]\n",
            " [0. 1.]]\n",
            "Confusion Matrix - Test:\n",
            " [[0. 1.]\n",
            " [0. 1.]]\n"
          ]
        }
      ],
      "source": [
        "param = opt.cv_results_['params'][7] #index no. 7 selected as best parameters\n",
        "       \n",
        "pipe_set1.set_params(**param)\n",
        "pipe_set1.fit(X_train,y_train)\n",
        "y_predict_train = pipe_set1.predict_proba(X_train)[:,1]\n",
        "y_predict_test = pipe_set1.predict_proba(X_test)[:,1]\n",
        "auc_score_set1_train = roc_auc_score(y_train, y_predict_train )\n",
        "auc_score_set1_test = roc_auc_score(y_test, y_predict_test )\n",
        "print('Train AUC Score:', auc_score_set1_train)\n",
        "print('Test AUC Score:', auc_score_set1_test )\n",
        "\n",
        "confusion_matrix_train_set1 = confusion_matrix(y_train,pipe_set1.predict(X_train),normalize='true')\n",
        "print('Confusion Matrix - Train:\\n',confusion_matrix_train_set1)\n",
        "confusion_matrix_test_set1 = confusion_matrix(y_test,pipe_set1.predict(X_test),normalize='true')\n",
        "print('Confusion Matrix - Test:\\n',confusion_matrix_test_set1 )"
      ]
    },
    {
      "cell_type": "markdown",
      "metadata": {
        "id": "sHk6CObHxm-G"
      },
      "source": [
        "- After training on more points there is some improvement in test auc and overfit is reduced as train and test auc are more close."
      ]
    },
    {
      "cell_type": "markdown",
      "metadata": {
        "id": "w4jj1NHSwmea"
      },
      "source": [
        "<h3>Finding optimal probability threshold</h3>"
      ]
    },
    {
      "cell_type": "code",
      "execution_count": null,
      "metadata": {
        "id": "gaAiWg_hLowM"
      },
      "outputs": [],
      "source": [
        "fpr_trainset, tpr_trainset, thresholds_train = roc_curve(y_train, y_predict_train)\n",
        "fpr_testset, tpr_testset ,threshold_testset = roc_curve(y_test, y_predict_test)"
      ]
    },
    {
      "cell_type": "code",
      "execution_count": null,
      "metadata": {
        "colab": {
          "base_uri": "https://localhost:8080/",
          "height": 295
        },
        "id": "1gL85h0ILqyG",
        "outputId": "721d1e76-3142-4675-fb4f-301407a2a0da"
      },
      "outputs": [
        {
          "data": {
            "image/png": "[encoded data removed]",
            "text/plain": [
              "<Figure size 432x288 with 1 Axes>"
            ]
          },
          "metadata": {},
          "output_type": "display_data"
        }
      ],
      "source": [
        "sns.lineplot(fpr_trainset , tpr_trainset , label=f'Trian ROC Curve={auc_score_set1_train}')\n",
        "sns.lineplot(fpr_testset , tpr_testset , label=f'Test ROC Curve={auc_score_set1_test}')\n",
        "plt.title('Train and Test ROC Curve')\n",
        "plt.xlabel('False Positive Rate')\n",
        "plt.ylabel('True Positive Rate')\n",
        "plt.legend()\n",
        "plt.show()"
      ]
    },
    {
      "cell_type": "code",
      "execution_count": null,
      "metadata": {
        "colab": {
          "base_uri": "https://localhost:8080/"
        },
        "id": "CA-eQHtULqni",
        "outputId": "1dedfadc-4396-4966-f6a2-abee1e5cb3f9"
      },
      "outputs": [
        {
          "name": "stdout",
          "output_type": "stream",
          "text": [
            "Probability Threshold: 0.8031791\n",
            "\n",
            "Train Confusion Matrix after thresholding probability:\n",
            " [[0.65839574 0.34160426]\n",
            " [0.38737462 0.61262538]]\n",
            "\n",
            "Test Confusion Matrix after thresholding probability:\n",
            " [[0.64389082 0.35610918]\n",
            " [0.3927369  0.6072631 ]]\n"
          ]
        }
      ],
      "source": [
        "threshold =  thresholds_train[np.argmax(tpr_trainset*(1-fpr_trainset))]\n",
        "print('Probability Threshold:',threshold)\n",
        "\n",
        "y_train_after_thresholding = np.copy(y_predict_train)\n",
        "y_train_after_thresholding = np.where( y_train_after_thresholding >= threshold , 1, 0)\n",
        "confusion_matrix_train_set1_thresh = confusion_matrix(y_train,y_train_after_thresholding,normalize='true')\n",
        "print('\\nTrain Confusion Matrix after thresholding probability:\\n',confusion_matrix_train_set1_thresh)\n",
        "\n",
        "y_test_after_thresholding = np.copy(y_predict_test)\n",
        "y_test_after_thresholding = np.where( y_test_after_thresholding >= threshold , 1, 0)\n",
        "confusion_matrix_test_set1_thresh = confusion_matrix(y_test,y_test_after_thresholding,normalize='true')\n",
        "print('\\nTest Confusion Matrix after thresholding probability:\\n',confusion_matrix_test_set1_thresh)"
      ]
    },
    {
      "cell_type": "markdown",
      "metadata": {
        "id": "LZuKiwnA-YY3"
      },
      "source": [
        "<h3>Confusion Matrix</h3>"
      ]
    },
    {
      "cell_type": "code",
      "execution_count": null,
      "metadata": {
        "colab": {
          "base_uri": "https://localhost:8080/",
          "height": 295
        },
        "id": "L4q07vaSLx2t",
        "outputId": "205fe1ed-41ce-4a24-e543-22e0659a0ba1"
      },
      "outputs": [
        {
          "data": {
            "image/png": "[encoded data removed]",
            "text/plain": [
              "<Figure size 432x288 with 2 Axes>"
            ]
          },
          "metadata": {},
          "output_type": "display_data"
        }
      ],
      "source": [
        "sns.set_style('white')\n",
        "ConfusionMatrixDisplay.from_predictions(y_train, y_train_after_thresholding, normalize='true')\n",
        "plt.title('Confusion Matrix (normalize)-Train set')\n",
        "plt.show()"
      ]
    },
    {
      "cell_type": "code",
      "execution_count": null,
      "metadata": {
        "colab": {
          "base_uri": "https://localhost:8080/",
          "height": 295
        },
        "id": "uXIZL9nTLz98",
        "outputId": "f5b1a96f-ab2a-4201-e412-9e09e00355c5"
      },
      "outputs": [
        {
          "data": {
            "image/png": "[encoded data removed]",
            "text/plain": [
              "<Figure size 432x288 with 2 Axes>"
            ]
          },
          "metadata": {},
          "output_type": "display_data"
        }
      ],
      "source": [
        "ConfusionMatrixDisplay.from_predictions(y_test, y_test_after_thresholding, normalize='true') \n",
        "plt.title('Confusion Matrix (normalize)-Test set')\n",
        "plt.show()"
      ]
    },
    {
      "cell_type": "markdown",
      "metadata": {
        "id": "hI9cekHQ8i1d"
      },
      "source": [
        "# **Set-2**"
      ]
    },
    {
      "cell_type": "markdown",
      "metadata": {
        "id": "4MPrQQn3yOV7"
      },
      "source": [
        "<h3>Encoding features:</h3>"
      ]
    },
    {
      "cell_type": "markdown",
      "metadata": {
        "id": "3F8_OTXXyOV8"
      },
      "source": [
        "- Using column transformer to encode and stack features.\n",
        "- Making custom transformer for w2v-tfidf."
      ]
    },
    {
      "cell_type": "code",
      "execution_count": null,
      "metadata": {
        "id": "iv2tE46SL6ad"
      },
      "outputs": [],
      "source": [
        "class TfidfW2vVectorizer(TfidfVectorizer,BaseEstimator,TransformerMixin):\n",
        "\n",
        "  def __init__(self,**kwargs):  #https://stackoverflow.com/questions/42561085/python-inherit-variables-from-parent-class\n",
        "    super().__init__(**kwargs)\n",
        "    \n",
        "  def fit(self,raw_documents,y=None):\n",
        "    with open('/content/drive/MyDrive/glove_vectors', 'rb') as f:\n",
        "      model = pickle.load(f)\n",
        "      glove_words =  set(model.keys())\n",
        "\n",
        "    self.w2v_vectors_ = []  \n",
        "    for word in list( super().fit(raw_documents).vocabulary_ ):\n",
        "      if word in glove_words:\n",
        "        self.w2v_vectors_.append(model[word])\n",
        "      else:\n",
        "        self.w2v_vectors_.append(np.zeros(300))  \n",
        "    self.w2v_vectors_ = csr_matrix(self.w2v_vectors_)\n",
        "    return self\n",
        "\n",
        "  def transform(self,raw_documents):\n",
        "    check_is_fitted(self,msg=\"fit raw_documents before transform\")\n",
        "    tfidf_vectors = super().transform(raw_documents)\n",
        "    tfidf_w2v_vectors = ( np.dot( tfidf_vectors , self.w2v_vectors_ ) ) / ( tfidf_vectors.sum(axis=1) )\n",
        "    return tfidf_w2v_vectors\n",
        "\n",
        "  def fit_transform(self, raw_documents, y=None):\n",
        "    return self.fit(raw_documents).transform(raw_documents)"
      ]
    },
    {
      "cell_type": "code",
      "execution_count": null,
      "metadata": {
        "colab": {
          "base_uri": "https://localhost:8080/"
        },
        "id": "jULDNiFoXvQe",
        "outputId": "4133767a-269c-44de-dae0-9adb8f037171"
      },
      "outputs": [
        {
          "name": "stdout",
          "output_type": "stream",
          "text": [
            "[[ 0.18165    0.48433    0.52338   ...  0.74978   -0.74108    0.27345  ]\n",
            " [ 0.         0.         0.        ...  0.         0.         0.       ]\n",
            " [ 0.         0.         0.        ...  0.         0.         0.       ]\n",
            " [ 0.095329  -0.0065557 -0.025445  ... -0.070249   0.47871    0.090787 ]\n",
            " [ 0.         0.         0.        ...  0.         0.         0.       ]]\n",
            "shape of one document: (1, 300)\n"
          ]
        }
      ],
      "source": [
        "t = TfidfW2vVectorizer()\n",
        "a=t.fit_transform(X_train)\n",
        "print(a[:5])\n",
        "print('shape of one document:',a[0].shape)"
      ]
    },
    {
      "cell_type": "code",
      "execution_count": null,
      "metadata": {
        "id": "g7SmZ2liL9MO"
      },
      "outputs": [],
      "source": [
        "transform_set2 = make_column_transformer(\n",
        "    ( TfidfW2vVectorizer(max_df=0.85,stop_words='english') , (6) ), #tfidf on essay\n",
        "    ( TfidfW2vVectorizer(max_df=0.85,stop_words='english') , (8) ), #tfidf on title\n",
        "    ( SentimentScore() , (6) ), #sentiment score of essay\n",
        "    ( ResponseEncoding(), (0) ), #response encoding of categorical features.\n",
        "    ( ResponseEncoding(), (1) ),\n",
        "    ( ResponseEncoding(), (2) ),\n",
        "    ( ResponseEncoding(), (4) ),\n",
        "    ( ResponseEncoding(), (5) ),\n",
        "    ( MinMaxScaler() , (3,7) ), #normalizing numerical features \n",
        "    )"
      ]
    },
    {
      "cell_type": "code",
      "execution_count": null,
      "metadata": {
        "colab": {
          "base_uri": "https://localhost:8080/"
        },
        "id": "riOboryNYuNL",
        "outputId": "de7fe18b-36aa-44c1-c24d-167ec796799b"
      },
      "outputs": [
        {
          "output_type": "execute_result",
          "data": {
            "text/plain": [
              "{'tfidfw2vvectorizer-1': slice(0, 300, None),\n",
              " 'tfidfw2vvectorizer-2': slice(300, 600, None),\n",
              " 'sentimentscore': slice(600, 604, None),\n",
              " 'responseencoding-1': slice(604, 606, None),\n",
              " 'responseencoding-2': slice(606, 608, None),\n",
              " 'responseencoding-3': slice(608, 610, None),\n",
              " 'responseencoding-4': slice(610, 612, None),\n",
              " 'responseencoding-5': slice(612, 614, None),\n",
              " 'minmaxscaler': slice(614, 616, None),\n",
              " 'remainder': slice(0, 0, None)}"
            ]
          },
          "metadata": {},
          "execution_count": 59
        }
      ],
      "source": [
        "tr=transform_set2.fit_transform(X_train,y_train)\n",
        "transform_set2.output_indices_"
      ]
    },
    {
      "cell_type": "markdown",
      "metadata": {
        "id": "NABUaFHibwqc"
      },
      "source": [
        "<h3>Using RandomizedSearchCV</h3> "
      ]
    },
    {
      "cell_type": "markdown",
      "metadata": {
        "id": "m_ZvFEyAy78b"
      },
      "source": [
        "- Using 35k points to search hyperparameter then trying value of hyperparameter obtained by randomized search on full 100k+ data."
      ]
    },
    {
      "cell_type": "code",
      "execution_count": null,
      "metadata": {
        "colab": {
          "base_uri": "https://localhost:8080/"
        },
        "id": "VhPAGfnMrvHg",
        "outputId": "b1c36504-d6f7-4baa-d3e5-d457277bab79"
      },
      "outputs": [
        {
          "name": "stdout",
          "output_type": "stream",
          "text": [
            "Fitting 1 folds for each of 10 candidates, totalling 10 fits\n",
            "[CV 1/1] END xgbclassifier__colsample_bytree=0.8627749076735466, xgbclassifier__lambda=0.004936579433302956, xgbclassifier__learning_rate=0.06650725202282548, xgbclassifier__max_depth =7, xgbclassifier__n_estimators=37, xgbclassifier__scale_pos_weight=0.9334528174484704, xgbclassifier__subsample=0.846292371821006;, score=(train=0.711, test=0.620) total time= 1.5min\n",
            "[CV 1/1] END xgbclassifier__colsample_bytree=0.7479898001172959, xgbclassifier__lambda=0.4778425338367052, xgbclassifier__learning_rate=0.5432838620224841, xgbclassifier__max_depth =9, xgbclassifier__n_estimators=15, xgbclassifier__scale_pos_weight=0.5218160076144954, xgbclassifier__subsample=0.9467262531932881;, score=(train=0.756, test=0.621) total time= 1.2min\n",
            "[CV 1/1] END xgbclassifier__colsample_bytree=0.9722035635717663, xgbclassifier__lambda=0.18529172642060762, xgbclassifier__learning_rate=0.6676890073813825, xgbclassifier__max_depth =9, xgbclassifier__n_estimators=21, xgbclassifier__scale_pos_weight=0.7627538704875606, xgbclassifier__subsample=0.7447034735228866;, score=(train=0.773, test=0.617) total time= 1.3min\n",
            "[CV 1/1] END xgbclassifier__colsample_bytree=0.7355153676007168, xgbclassifier__lambda=0.03913666044662171, xgbclassifier__learning_rate=0.8559677166281356, xgbclassifier__max_depth =8, xgbclassifier__n_estimators=38, xgbclassifier__scale_pos_weight=0.5449261632588926, xgbclassifier__subsample=0.9574764239084994;, score=(train=0.856, test=0.589) total time= 1.5min\n",
            "[CV 1/1] END xgbclassifier__colsample_bytree=0.7364565963877525, xgbclassifier__lambda=0.9652198222456285, xgbclassifier__learning_rate=0.9070118254335154, xgbclassifier__max_depth =9, xgbclassifier__n_estimators=15, xgbclassifier__scale_pos_weight=0.3324362497851323, xgbclassifier__subsample=0.9262511676398982;, score=(train=0.764, test=0.598) total time= 1.2min\n",
            "[CV 1/1] END xgbclassifier__colsample_bytree=0.996824244669988, xgbclassifier__lambda=7.563956647558841, xgbclassifier__learning_rate=0.6324973356453707, xgbclassifier__max_depth =3, xgbclassifier__n_estimators=44, xgbclassifier__scale_pos_weight=0.13662950559920672, xgbclassifier__subsample=0.7717714444407285;, score=(train=0.851, test=0.618) total time= 1.7min\n",
            "[CV 1/1] END xgbclassifier__colsample_bytree=0.9150123391749077, xgbclassifier__lambda=1.4503794275144573, xgbclassifier__learning_rate=0.9884163596406518, xgbclassifier__max_depth =2, xgbclassifier__n_estimators=11, xgbclassifier__scale_pos_weight=0.6960411238680796, xgbclassifier__subsample=0.9691948310735373;, score=(train=0.746, test=0.600) total time= 1.2min\n",
            "[CV 1/1] END xgbclassifier__colsample_bytree=0.9869782923618671, xgbclassifier__lambda=0.00033455515201245194, xgbclassifier__learning_rate=0.06590726688110515, xgbclassifier__max_depth =7, xgbclassifier__n_estimators=40, xgbclassifier__scale_pos_weight=0.4654869804754421, xgbclassifier__subsample=0.980577074920623;, score=(train=0.719, test=0.622) total time= 1.6min\n",
            "[CV 1/1] END xgbclassifier__colsample_bytree=0.8259572580053188, xgbclassifier__lambda=1.3076099414061955, xgbclassifier__learning_rate=0.8205605196301476, xgbclassifier__max_depth =4, xgbclassifier__n_estimators=22, xgbclassifier__scale_pos_weight=0.46968542611057906, xgbclassifier__subsample=0.9943278593843232;, score=(train=0.803, test=0.597) total time= 1.3min\n",
            "[CV 1/1] END xgbclassifier__colsample_bytree=0.9699616372104074, xgbclassifier__lambda=0.0006622346066624021, xgbclassifier__learning_rate=0.6547859855922642, xgbclassifier__max_depth =1, xgbclassifier__n_estimators=46, xgbclassifier__scale_pos_weight=0.8730057548514031, xgbclassifier__subsample=0.8001910367507998;, score=(train=0.856, test=0.587) total time= 1.7min\n"
          ]
        },
        {
          "data": {
            "text/plain": [
              "RandomizedSearchCV(cv=ShuffleSplit(n_splits=1, random_state=5, test_size=0.2, train_size=None),\n",
              "                   error_score='raise',\n",
              "                   estimator=Pipeline(steps=[('columntransformer',\n",
              "                                              ColumnTransformer(transformers=[('tfidfw2vvectorizer-1',\n",
              "                                                                               TfidfW2vVectorizer(),\n",
              "                                                                               6),\n",
              "                                                                              ('tfidfw2vvectorizer-2',\n",
              "                                                                               TfidfW2vVectorizer(),\n",
              "                                                                               8),\n",
              "                                                                              ('sentimentscore',\n",
              "                                                                               SentimentScore(),\n",
              "                                                                               6),\n",
              "                                                                              ('responseencoding-1',\n",
              "                                                                               Res...\n",
              "                                        'xgbclassifier__n_estimators': <scipy.stats._distn_infrastructure.rv_frozen object at 0x7f80a50a2dd0>,\n",
              "                                        'xgbclassifier__scale_pos_weight': <scipy.stats._continuous_distns.uniform_gen object at 0x7f80b935db10>,\n",
              "                                        'xgbclassifier__subsample': <scipy.stats._distn_infrastructure.rv_frozen object at 0x7f80a3b084d0>},\n",
              "                   refit=False, return_train_score=True, scoring='roc_auc',\n",
              "                   verbose=4)"
            ]
          },
          "execution_count": 129,
          "metadata": {},
          "output_type": "execute_result"
        }
      ],
      "source": [
        "pipe_set2 = make_pipeline( transform_set2 , xgb.XGBClassifier(random_state=15,eval_metric='auc') )\n",
        "\n",
        "param2 = {'xgbclassifier__max_depth ':randint(1, 10),\n",
        "         'xgbclassifier__n_estimators':randint(3,50),\n",
        "         'xgbclassifier__learning_rate':uniform,\n",
        "         'xgbclassifier__subsample':uniform(0.7,.3),\n",
        "         'xgbclassifier__colsample_bytree':uniform(0.7,.3),\n",
        "         'xgbclassifier__lambda':loguniform(1e-4, 1e+3),\n",
        "         'xgbclassifier__scale_pos_weight':uniform,\n",
        "         }\n",
        "\n",
        "cv = ShuffleSplit(test_size=0.20, n_splits=1, random_state=5)\n",
        "\n",
        "clf_set2 = RandomizedSearchCV( pipe_set2, param2 , n_iter=10, cv=cv, scoring='roc_auc', return_train_score=True,refit=False, error_score='raise',verbose=4) \n",
        "\n",
        "clf_set2.fit(X_train,y_train)"
      ]
    },
    {
      "cell_type": "code",
      "execution_count": null,
      "metadata": {
        "colab": {
          "base_uri": "https://localhost:8080/",
          "height": 458
        },
        "id": "0Y5awdONMDpH",
        "outputId": "493c0c6d-8076-4ebc-a977-ce3cb05c0a0b"
      },
      "outputs": [
        {
          "data": {
            "image/png": "[encoded data removed]",
            "text/plain": [
              "<Figure size 864x504 with 1 Axes>"
            ]
          },
          "metadata": {},
          "output_type": "display_data"
        }
      ],
      "source": [
        "sns.set_style(\"whitegrid\")\n",
        "plt.figure(figsize=(12,7))\n",
        "sns.lineplot(np.arange(10), y=clf_set2.cv_results_['mean_train_score'], label='mean train auc score')\n",
        "sns.lineplot(np.arange(10), y=clf_set2.cv_results_['mean_test_score'], label='mean cv auc score')\n",
        "plt.xticks(np.arange(10))\n",
        "plt.yticks(np.arange(0.45,1,0.025))\n",
        "plt.tick_params(labelright=True)\n",
        "plt.xlabel('index no. of ramdomized search result')\n",
        "plt.ylabel('mean train and cv auc score')\n",
        "plt.title('Train & CV curve for hyperparameter selection')\n",
        "plt.legend()\n",
        "plt.show()"
      ]
    },
    {
      "cell_type": "markdown",
      "metadata": {
        "id": "3JO8f4bIzSuN"
      },
      "source": [
        "- Getting hyperparameter values for index no. 0, 7."
      ]
    },
    {
      "cell_type": "code",
      "execution_count": null,
      "metadata": {
        "colab": {
          "base_uri": "https://localhost:8080/",
          "height": 112
        },
        "id": "3PdyorHpazpb",
        "outputId": "a8752869-b4f7-4022-ca51-86436eebd9b4"
      },
      "outputs": [
        {
          "data": {
            "text/html": [
              "\n",
              "  <div id=\"df-d247b466-07e6-4eb5-8921-2081e0785d18\">\n",
              "    <div class=\"colab-df-container\">\n",
              "      <div>\n",
              "<style scoped>\n",
              "    .dataframe tbody tr th:only-of-type {\n",
              "        vertical-align: middle;\n",
              "    }\n",
              "\n",
              "    .dataframe tbody tr th {\n",
              "        vertical-align: top;\n",
              "    }\n",
              "\n",
              "    .dataframe thead th {\n",
              "        text-align: right;\n",
              "    }\n",
              "</style>\n",
              "<table border=\"1\" class=\"dataframe\">\n",
              "  <thead>\n",
              "    <tr style=\"text-align: right;\">\n",
              "      <th></th>\n",
              "      <th>colsample</th>\n",
              "      <th>lambda</th>\n",
              "      <th>learning_rate</th>\n",
              "      <th>max_depth</th>\n",
              "      <th>n_estimators</th>\n",
              "      <th>scale_pos_weight</th>\n",
              "      <th>subsample</th>\n",
              "      <th>train auc</th>\n",
              "      <th>test auc</th>\n",
              "      <th>diff in auc</th>\n",
              "    </tr>\n",
              "  </thead>\n",
              "  <tbody>\n",
              "    <tr>\n",
              "      <th>0</th>\n",
              "      <td>0.862775</td>\n",
              "      <td>0.004937</td>\n",
              "      <td>0.066507</td>\n",
              "      <td>7</td>\n",
              "      <td>37</td>\n",
              "      <td>0.933453</td>\n",
              "      <td>0.846292</td>\n",
              "      <td>0.711320</td>\n",
              "      <td>0.620500</td>\n",
              "      <td>0.090820</td>\n",
              "    </tr>\n",
              "    <tr>\n",
              "      <th>7</th>\n",
              "      <td>0.986978</td>\n",
              "      <td>0.000335</td>\n",
              "      <td>0.065907</td>\n",
              "      <td>7</td>\n",
              "      <td>40</td>\n",
              "      <td>0.465487</td>\n",
              "      <td>0.980577</td>\n",
              "      <td>0.719468</td>\n",
              "      <td>0.621559</td>\n",
              "      <td>0.097909</td>\n",
              "    </tr>\n",
              "  </tbody>\n",
              "</table>\n",
              "</div>\n",
              "      <button class=\"colab-df-convert\" onclick=\"convertToInteractive('df-d247b466-07e6-4eb5-8921-2081e0785d18')\"\n",
              "              title=\"Convert this dataframe to an interactive table.\"\n",
              "              style=\"display:none;\">\n",
              "        \n",
              "  <svg xmlns=\"http://www.w3.org/2000/svg\" height=\"24px\"viewBox=\"0 0 24 24\"\n",
              "       width=\"24px\">\n",
              "    <path d=\"M0 0h24v24H0V0z\" fill=\"none\"/>\n",
              "    <path d=\"M18.56 5.44l.94 2.06.94-2.06 2.06-.94-2.06-.94-.94-2.06-.94 2.06-2.06.94zm-11 1L8.5 8.5l.94-2.06 2.06-.94-2.06-.94L8.5 2.5l-.94 2.06-2.06.94zm10 10l.94 2.06.94-2.06 2.06-.94-2.06-.94-.94-2.06-.94 2.06-2.06.94z\"/><path d=\"M17.41 7.96l-1.37-1.37c-.4-.4-.92-.59-1.43-.59-.52 0-1.04.2-1.43.59L10.3 9.45l-7.72 7.72c-.78.78-.78 2.05 0 2.83L4 21.41c.39.39.9.59 1.41.59.51 0 1.02-.2 1.41-.59l7.78-7.78 2.81-2.81c.8-.78.8-2.07 0-2.86zM5.41 20L4 18.59l7.72-7.72 1.47 1.35L5.41 20z\"/>\n",
              "  </svg>\n",
              "      </button>\n",
              "      \n",
              "  <style>\n",
              "    .colab-df-container {\n",
              "      display:flex;\n",
              "      flex-wrap:wrap;\n",
              "      gap: 12px;\n",
              "    }\n",
              "\n",
              "    .colab-df-convert {\n",
              "      background-color: #E8F0FE;\n",
              "      border: none;\n",
              "      border-radius: 50%;\n",
              "      cursor: pointer;\n",
              "      display: none;\n",
              "      fill: #1967D2;\n",
              "      height: 32px;\n",
              "      padding: 0 0 0 0;\n",
              "      width: 32px;\n",
              "    }\n",
              "\n",
              "    .colab-df-convert:hover {\n",
              "      background-color: #E2EBFA;\n",
              "      box-shadow: 0px 1px 2px rgba(60, 64, 67, 0.3), 0px 1px 3px 1px rgba(60, 64, 67, 0.15);\n",
              "      fill: #174EA6;\n",
              "    }\n",
              "\n",
              "    [theme=dark] .colab-df-convert {\n",
              "      background-color: #3B4455;\n",
              "      fill: #D2E3FC;\n",
              "    }\n",
              "\n",
              "    [theme=dark] .colab-df-convert:hover {\n",
              "      background-color: #434B5C;\n",
              "      box-shadow: 0px 1px 3px 1px rgba(0, 0, 0, 0.15);\n",
              "      filter: drop-shadow(0px 1px 2px rgba(0, 0, 0, 0.3));\n",
              "      fill: #FFFFFF;\n",
              "    }\n",
              "  </style>\n",
              "\n",
              "      <script>\n",
              "        const buttonEl =\n",
              "          document.querySelector('#df-d247b466-07e6-4eb5-8921-2081e0785d18 button.colab-df-convert');\n",
              "        buttonEl.style.display =\n",
              "          google.colab.kernel.accessAllowed ? 'block' : 'none';\n",
              "\n",
              "        async function convertToInteractive(key) {\n",
              "          const element = document.querySelector('#df-d247b466-07e6-4eb5-8921-2081e0785d18');\n",
              "          const dataTable =\n",
              "            await google.colab.kernel.invokeFunction('convertToInteractive',\n",
              "                                                     [key], {});\n",
              "          if (!dataTable) return;\n",
              "\n",
              "          const docLinkHtml = 'Like what you see? Visit the ' +\n",
              "            '<a target=\"_blank\" href=https://colab.research.google.com/notebooks/data_table.ipynb>data table notebook</a>'\n",
              "            + ' to learn more about interactive tables.';\n",
              "          element.innerHTML = '';\n",
              "          dataTable['output_type'] = 'display_data';\n",
              "          await google.colab.output.renderOutput(dataTable, element);\n",
              "          const docLink = document.createElement('div');\n",
              "          docLink.innerHTML = docLinkHtml;\n",
              "          element.appendChild(docLink);\n",
              "        }\n",
              "      </script>\n",
              "    </div>\n",
              "  </div>\n",
              "  "
            ],
            "text/plain": [
              "   colsample    lambda  learning_rate  max_depth  n_estimators  \\\n",
              "0   0.862775  0.004937       0.066507          7            37   \n",
              "7   0.986978  0.000335       0.065907          7            40   \n",
              "\n",
              "   scale_pos_weight  subsample  train auc  test auc  diff in auc  \n",
              "0          0.933453   0.846292   0.711320  0.620500     0.090820  \n",
              "7          0.465487   0.980577   0.719468  0.621559     0.097909  "
            ]
          },
          "execution_count": 131,
          "metadata": {},
          "output_type": "execute_result"
        }
      ],
      "source": [
        "result2=pd.DataFrame([clf_set2.cv_results_['params'][0],clf_set2.cv_results_['params'][7]],index=[0,7])\n",
        "result2.columns=['colsample','lambda','learning_rate','max_depth','n_estimators','scale_pos_weight','subsample']\n",
        "result2['train auc']=clf_set2.cv_results_['mean_train_score'][[0,7]]\n",
        "result2['test auc']=clf_set2.cv_results_['mean_test_score'][[0,7]]\n",
        "result2['diff in auc']=clf_set2.cv_results_['mean_train_score'][[0,7]]-clf_set2.cv_results_['mean_test_score'][[0,7]]\n",
        "result2"
      ]
    },
    {
      "cell_type": "markdown",
      "metadata": {
        "id": "WluzS9--iJgX"
      },
      "source": [
        "- Selecing index 7.\n",
        "- When trained on more data points overfit will probably reduce. we do not want any reduction in auc score so using low lambda value result as low lambda will make model less conservative."
      ]
    },
    {
      "cell_type": "markdown",
      "metadata": {
        "id": "UIvDj1WMJ34T"
      },
      "source": [
        "<h3>Training on whole X_train:</h3>"
      ]
    },
    {
      "cell_type": "code",
      "execution_count": null,
      "metadata": {
        "id": "WAwgfg7yDgb6"
      },
      "outputs": [],
      "source": [
        "df=pd.read_csv('/content/drive/MyDrive/preprocessed_data_title.csv')"
      ]
    },
    {
      "cell_type": "code",
      "execution_count": null,
      "metadata": {
        "id": "wpwGumPmDgb6"
      },
      "outputs": [],
      "source": [
        "df=df.drop(['Unnamed: 0'],axis=1)"
      ]
    },
    {
      "cell_type": "code",
      "execution_count": null,
      "metadata": {
        "colab": {
          "base_uri": "https://localhost:8080/"
        },
        "id": "HWgM0NIfDgb6",
        "outputId": "7b0acec4-8fac-4633-a927-33e1d6acd8f3"
      },
      "outputs": [
        {
          "name": "stdout",
          "output_type": "stream",
          "text": [
            "43\n"
          ]
        }
      ],
      "source": [
        "not_string=[]\n",
        "for i in range(len(df)):\n",
        "  if type(df.project_title.values[i]) != str:\n",
        "    df['project_title'][i] = ''\n",
        "    not_string.append(i)\n",
        "print(len(not_string))"
      ]
    },
    {
      "cell_type": "code",
      "execution_count": null,
      "metadata": {
        "id": "TS2_UpbzDgcK"
      },
      "outputs": [],
      "source": [
        "y = df['project_is_approved'].values\n",
        "X = df.drop(['project_is_approved'], axis=1)\n",
        "X_train, X_test, y_train, y_test = train_test_split(X, y, test_size=0.33, stratify=y,random_state=15)"
      ]
    },
    {
      "cell_type": "code",
      "execution_count": null,
      "metadata": {
        "colab": {
          "base_uri": "https://localhost:8080/"
        },
        "id": "vw5dAudFDgcK",
        "outputId": "183cd911-b43f-41d4-a0f7-a18bac509183"
      },
      "outputs": [
        {
          "data": {
            "text/plain": [
              "73196"
            ]
          },
          "execution_count": 136,
          "metadata": {},
          "output_type": "execute_result"
        }
      ],
      "source": [
        "len(X_train)"
      ]
    },
    {
      "cell_type": "code",
      "execution_count": null,
      "metadata": {
        "colab": {
          "base_uri": "https://localhost:8080/"
        },
        "id": "PIqm8VmiilsL",
        "outputId": "cdd54f57-ec81-41ae-ae4e-701810ad7300"
      },
      "outputs": [
        {
          "name": "stdout",
          "output_type": "stream",
          "text": [
            "Train AUC Score: 0.6563155329568258\n",
            "Test AUC Score: 0.639807968264264\n",
            "Confusion Matrix - Train:\n",
            " [[2.43616349e-03 9.97563837e-01]\n",
            " [1.77096582e-04 9.99822903e-01]]\n",
            "Confusion Matrix - Test:\n",
            " [[1.64865360e-03 9.98351346e-01]\n",
            " [3.26872160e-04 9.99673128e-01]]\n"
          ]
        }
      ],
      "source": [
        "param = clf_set2.cv_results_['params'][7]\n",
        "\n",
        "pipe_set2.set_params(**param)\n",
        "pipe_set2.fit(X_train,y_train)\n",
        "y_predict_train = pipe_set2.predict_proba(X_train)[:,1]\n",
        "y_predict_test = pipe_set2.predict_proba(X_test)[:,1]\n",
        "auc_score_set2_train = roc_auc_score(y_train, y_predict_train )\n",
        "auc_score_set2_test = roc_auc_score(y_test, y_predict_test )\n",
        "print('Train AUC Score:', auc_score_set2_train)\n",
        "print('Test AUC Score:', auc_score_set2_test )\n",
        "\n",
        "confusion_matrix_train_set2 = confusion_matrix(y_train,pipe_set2.predict(X_train),normalize='true')\n",
        "print('Confusion Matrix - Train:\\n',confusion_matrix_train_set2)\n",
        "confusion_matrix_test_set2 = confusion_matrix(y_test,pipe_set2.predict(X_test),normalize='true')\n",
        "print('Confusion Matrix - Test:\\n',confusion_matrix_test_set2 )"
      ]
    },
    {
      "cell_type": "markdown",
      "metadata": {
        "id": "LIt41bxlKXvf"
      },
      "source": [
        "<h3>Finding optimal probability threshold</h3>"
      ]
    },
    {
      "cell_type": "code",
      "execution_count": null,
      "metadata": {
        "id": "jSqAw9fSMZ-s"
      },
      "outputs": [],
      "source": [
        "fpr_trainset, tpr_trainset, thresholds_train = roc_curve(y_train, y_predict_train)\n",
        "fpr_testset, tpr_testset ,threshold_testset = roc_curve(y_test, y_predict_test)"
      ]
    },
    {
      "cell_type": "code",
      "execution_count": null,
      "metadata": {
        "colab": {
          "base_uri": "https://localhost:8080/",
          "height": 295
        },
        "id": "gFzGPQd0Mbzk",
        "outputId": "4c104fda-bef1-4674-8ee5-f911f291b808"
      },
      "outputs": [
        {
          "data": {
            "image/png": "[encoded data removed]",
            "text/plain": [
              "<Figure size 432x288 with 1 Axes>"
            ]
          },
          "metadata": {},
          "output_type": "display_data"
        }
      ],
      "source": [
        "sns.lineplot(fpr_trainset , tpr_trainset , label=f'Trian ROC Curve={auc_score_set2_train}')\n",
        "sns.lineplot(fpr_testset , tpr_testset , label=f'Test ROC Curve={auc_score_set2_test}')\n",
        "plt.title('Train and Test ROC Curve')\n",
        "plt.xlabel('False Positive Rate')\n",
        "plt.ylabel('True Positive Rate')\n",
        "plt.legend()\n",
        "plt.show()"
      ]
    },
    {
      "cell_type": "code",
      "execution_count": null,
      "metadata": {
        "colab": {
          "base_uri": "https://localhost:8080/"
        },
        "id": "jMHAsr_GMeRA",
        "outputId": "7be98a05-d4af-49ad-d10f-3e710e743ccb"
      },
      "outputs": [
        {
          "name": "stdout",
          "output_type": "stream",
          "text": [
            "Probability Threshold: 0.6976492\n",
            "\n",
            "Train Confusion Matrix after thresholding probability:\n",
            " [[0.5995669  0.4004331 ]\n",
            " [0.37586335 0.62413665]]\n",
            "\n",
            "Test Confusion Matrix after thresholding probability:\n",
            " [[0.5799597  0.4200403 ]\n",
            " [0.38057726 0.61942274]]\n"
          ]
        }
      ],
      "source": [
        "threshold =  thresholds_train[np.argmax(tpr_trainset*(1-fpr_trainset))]\n",
        "print('Probability Threshold:',threshold)\n",
        "\n",
        "y_train_after_thresholding = np.copy(y_predict_train)\n",
        "y_train_after_thresholding = np.where( y_train_after_thresholding >= threshold , 1, 0)\n",
        "confusion_matrix_train_set2_thresh = confusion_matrix(y_train,y_train_after_thresholding,normalize='true')\n",
        "print('\\nTrain Confusion Matrix after thresholding probability:\\n',confusion_matrix_train_set2_thresh)\n",
        "\n",
        "y_test_after_thresholding = np.copy(y_predict_test)\n",
        "y_test_after_thresholding = np.where( y_test_after_thresholding >= threshold , 1, 0)\n",
        "confusion_matrix_test_set2_thresh = confusion_matrix(y_test,y_test_after_thresholding,normalize='true')\n",
        "print('\\nTest Confusion Matrix after thresholding probability:\\n',confusion_matrix_test_set2_thresh)"
      ]
    },
    {
      "cell_type": "markdown",
      "metadata": {
        "id": "_7WsFeJUNqC9"
      },
      "source": [
        "<h3>Confusion Matrix</h3>"
      ]
    },
    {
      "cell_type": "code",
      "execution_count": null,
      "metadata": {
        "colab": {
          "base_uri": "https://localhost:8080/",
          "height": 295
        },
        "id": "Fpg4az3fMjN9",
        "outputId": "0e0359f9-912a-4fad-b13b-413debd1e4d8"
      },
      "outputs": [
        {
          "data": {
            "image/png": "[encoded data removed]",
            "text/plain": [
              "<Figure size 432x288 with 2 Axes>"
            ]
          },
          "metadata": {},
          "output_type": "display_data"
        }
      ],
      "source": [
        "sns.set_style('white')\n",
        "ConfusionMatrixDisplay.from_predictions(y_train, y_train_after_thresholding, normalize='true')\n",
        "plt.title('Confusion Matrix (normalize)-Train set')\n",
        "plt.show()"
      ]
    },
    {
      "cell_type": "code",
      "execution_count": null,
      "metadata": {
        "colab": {
          "base_uri": "https://localhost:8080/",
          "height": 295
        },
        "id": "8_6otD2XMlT5",
        "outputId": "23e1dfd3-0e28-42c3-f123-805c5621c739"
      },
      "outputs": [
        {
          "data": {
            "image/png": "[encoded data removed]",
            "text/plain": [
              "<Figure size 432x288 with 2 Axes>"
            ]
          },
          "metadata": {},
          "output_type": "display_data"
        }
      ],
      "source": [
        "ConfusionMatrixDisplay.from_predictions(y_test, y_test_after_thresholding, normalize='true') \n",
        "plt.title('Confusion Matrix (normalize)-Test set')\n",
        "plt.show()"
      ]
    },
    {
      "cell_type": "markdown",
      "metadata": {
        "id": "nfgHD_Z_72rp"
      },
      "source": [
        "Summary-"
      ]
    },
    {
      "cell_type": "code",
      "execution_count": null,
      "metadata": {
        "colab": {
          "base_uri": "https://localhost:8080/"
        },
        "id": "6d-XQQUW1X8Y",
        "outputId": "2fd1e972-7e10-4911-a41b-818f366f93fd"
      },
      "outputs": [
        {
          "name": "stdout",
          "output_type": "stream",
          "text": [
            "+-------+---------------+----------+---------------+-----------+--------------+------------------+--------------------+---------------------+----------------+\n",
            "|  Set  | Search Method |  lambda  | learning_rate | max_depth | n_estimators | scale_pos_weight | True Positive-Test | False Positive-Test | AUC Score-Test |\n",
            "+-------+---------------+----------+---------------+-----------+--------------+------------------+--------------------+---------------------+----------------+\n",
            "| Set-1 |    Bayesian   |   2.51   |      0.18     |     7     |      14      |       0.86       |        0.61        |         0.36        |      0.67      |\n",
            "| Set-2 |   Randomized  | 0.000335 |     0.066     |     7     |      40      |       0.47       |        0.62        |         0.42        |      0.64      |\n",
            "+-------+---------------+----------+---------------+-----------+--------------+------------------+--------------------+---------------------+----------------+\n"
          ]
        }
      ],
      "source": [
        "columns = [\"Set\",\"Search Method\", 'lambda','learning_rate','max_depth','n_estimators','scale_pos_weight', \"True Positive-Test\", \"False Positive-Test\", \"AUC Score-Test\"]\n",
        "myTable = PrettyTable()\n",
        "myTable.add_column(columns[0], [\"Set-1\" , \"Set-2\"])\n",
        "myTable.add_column(columns[1], ['Bayesian' , 'Randomized'])\n",
        "myTable.add_column(columns[2], [np.around(opt.cv_results_['params'][7]['xgbclassifier__lambda'],2), np.around(clf_set2.cv_results_['params'][7]['xgbclassifier__lambda'],6)])\n",
        "myTable.add_column(columns[3], [np.around(opt.cv_results_['params'][7]['xgbclassifier__learning_rate'],2), np.around(clf_set2.cv_results_['params'][7]['xgbclassifier__learning_rate'],3)])\n",
        "myTable.add_column(columns[4], [opt.cv_results_['params'][7]['xgbclassifier__max_depth '], clf_set2.cv_results_['params'][7]['xgbclassifier__max_depth ']])\n",
        "myTable.add_column(columns[5], [opt.cv_results_['params'][7][ 'xgbclassifier__n_estimators'], clf_set2.cv_results_['params'][7][ 'xgbclassifier__n_estimators']])\n",
        "myTable.add_column(columns[6], [np.around(opt.cv_results_['params'][7]['xgbclassifier__scale_pos_weight'],2), np.around(clf_set2.cv_results_['params'][7]['xgbclassifier__scale_pos_weight'],2)])\n",
        "myTable.add_column(columns[7], [np.around(confusion_matrix_test_set1_thresh[1,1],2) , np.around(confusion_matrix_test_set2_thresh[1,1],2)])\n",
        "myTable.add_column(columns[8], [np.around(confusion_matrix_test_set1_thresh[0,1],2) , np.around(confusion_matrix_test_set2_thresh[0,1],2)])\n",
        "myTable.add_column(columns[9], [np.around(auc_score_set1_test,2) , np.around(auc_score_set2_test,2)])\n",
        "print(myTable)"
      ]
    }
  ],
  "metadata": {
    "colab": {
      "provenance": []
    },
    "kernelspec": {
      "display_name": "Python 3",
      "name": "python3"
    },
    "language_info": {
      "name": "python"
    }
  },
  "nbformat": 4,
  "nbformat_minor": 0
}