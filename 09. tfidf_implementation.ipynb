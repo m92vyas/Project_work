{
  "nbformat": 4,
  "nbformat_minor": 0,
  "metadata": {
    "colab": {
      "provenance": []
    },
    "kernelspec": {
      "name": "python3",
      "display_name": "Python 3"
    },
    "language_info": {
      "name": "python"
    }
  },
  "cells": [
    {
      "cell_type": "code",
      "execution_count": null,
      "metadata": {
        "id": "d_Q04DsMMey3"
      },
      "outputs": [],
      "source": [
        "from scipy.sparse import csr_matrix\n",
        "\n",
        "import math\n",
        "\n",
        "from sklearn.preprocessing import normalize\n",
        "from sklearn.utils.validation import check_is_fitted\n",
        "from sklearn.feature_extraction.text import TfidfVectorizer\n",
        "\n",
        "import numpy as np"
      ]
    },
    {
      "cell_type": "code",
      "source": [
        "class CustomTfidfVectorizer:\n",
        "\n",
        "  def __init__(self,max_features=None):\n",
        "    self.max_features=max_features\n",
        "\n",
        "  def fit(self,raw_documents):\n",
        "    '''Learn vocabulary and idf from training set.'''\n",
        "    #vocabulary-\n",
        "    unique_words = set()\n",
        "    if isinstance(raw_documents,list):\n",
        "      for row in raw_documents:\n",
        "        for word in row.split():\n",
        "          if len(word)<2:\n",
        "            continue\n",
        "          unique_words.add(word)\n",
        "      vocab = sorted(list(unique_words)) \n",
        "      self.vocabulary_=vocab \n",
        "    else:\n",
        "      print (\"you need to pass raw_documents as list\")\n",
        "\n",
        "    #idf-\n",
        "    idf= np.empty((0,)) #https://stackoverflow.com/a/24806479\n",
        "    for word in vocab:\n",
        "        t=0\n",
        "        for row in raw_documents:\n",
        "            if word in row:\n",
        "               t+=1    \n",
        "        idf=np.append(idf,(1+(math.log((1+len(raw_documents))/(1+t)))))\n",
        "        self.idf_=idf\n",
        "    \n",
        "    #max_features:\n",
        "    if self.max_features != None:\n",
        "      idf_vocab = sorted([(vocab[i],idf[i]) for i in range(len(idf))]  , key=lambda i:i[1], reverse=True)[:self.max_features]\n",
        "      idf_vocab=dict(idf_vocab)\n",
        "\n",
        "      self.idf_=np.array(list(idf_vocab.values()))\n",
        "      self.vocabulary_=list(idf_vocab.keys())\n",
        "\n",
        "  def transform(self,raw_documents):\n",
        "    '''Transform documents to l2 normalize sparse tf-idf matrix.\n",
        "       Uses the vocabulary and idf values learned by fit'''\n",
        "\n",
        "    check_is_fitted(self,msg=\"fit raw_documents before transform\")\n",
        "\n",
        "    tfidf=np.empty((0,))\n",
        "    for row in raw_documents:\n",
        "      row=row.split()\n",
        "      c=0\n",
        "      for word in row:\n",
        "        if len(word)>1:\n",
        "          c+=1\n",
        "      tf=np.empty((0,))\n",
        "      for word in self.vocabulary_:\n",
        "         tf=np.append(tf,(row.count(word)/c))\n",
        "      tfidf_row=np.multiply(tf,self.idf_) \n",
        "      tfidf=np.append(tfidf,tfidf_row)\n",
        "\n",
        "    tfidf_dense=normalize(tfidf.reshape(len(raw_documents),len(self.vocabulary_)))\n",
        "    tfidf_sparse=csr_matrix(tfidf_dense)\n",
        "    \n",
        "    return tfidf_sparse\n"
      ],
      "metadata": {
        "id": "AdUHTTReMmh0"
      },
      "execution_count": null,
      "outputs": []
    },
    {
      "cell_type": "markdown",
      "source": [
        "# Comparing sklearn's TfidfVectorizer & Custom TfidfVectorizer:"
      ],
      "metadata": {
        "id": "s-z0Tu0ZT_XI"
      }
    },
    {
      "cell_type": "code",
      "source": [
        "corpus1 = [\n",
        "     'this is the first document',\n",
        "     'this document is the second document',\n",
        "     'and this is the third one',\n",
        "     'is this the first document',\n",
        "]"
      ],
      "metadata": {
        "id": "4ChgPIjqW_38"
      },
      "execution_count": null,
      "outputs": []
    },
    {
      "cell_type": "code",
      "source": [
        "#sklearn\n",
        "vectorizer = TfidfVectorizer()\n",
        "vectorizer.fit(corpus1)\n",
        "skl_output = vectorizer.transform(corpus1)\n",
        "\n",
        "#custom\n",
        "vectorizer_custom = CustomTfidfVectorizer()\n",
        "vectorizer_custom.fit(corpus1)\n",
        "custom_output = vectorizer_custom.transform(corpus1)"
      ],
      "metadata": {
        "id": "NqLs9sjVTPKN"
      },
      "execution_count": null,
      "outputs": []
    },
    {
      "cell_type": "code",
      "source": [
        "print(\"sklearn's vocab:\",vectorizer.get_feature_names_out())\n",
        "print(\"custom tfidf vocab:\",vectorizer_custom.vocabulary_)"
      ],
      "metadata": {
        "colab": {
          "base_uri": "https://localhost:8080/"
        },
        "id": "eJJsAn3iTfQT",
        "outputId": "9a1bc92d-0ffa-4e32-fe70-fbc6be4c1909"
      },
      "execution_count": null,
      "outputs": [
        {
          "output_type": "stream",
          "name": "stdout",
          "text": [
            "sklearn's vocab: ['and' 'document' 'first' 'is' 'one' 'second' 'the' 'third' 'this']\n",
            "custom tfidf vocab: ['and', 'document', 'first', 'is', 'one', 'second', 'the', 'third', 'this']\n"
          ]
        }
      ]
    },
    {
      "cell_type": "code",
      "source": [
        "print(\"sklearn's idf:\\n\",vectorizer.idf_)\n",
        "print(\"custom idf\\n:\",vectorizer_custom.idf_)"
      ],
      "metadata": {
        "colab": {
          "base_uri": "https://localhost:8080/"
        },
        "id": "f-1QrhmrTuaT",
        "outputId": "13be9372-7ff5-4454-a15c-774c442b6fcc"
      },
      "execution_count": null,
      "outputs": [
        {
          "output_type": "stream",
          "name": "stdout",
          "text": [
            "sklearn's idf:\n",
            " [1.91629073 1.22314355 1.51082562 1.         1.91629073 1.91629073\n",
            " 1.         1.91629073 1.        ]\n",
            "custom idf\n",
            ": [1.91629073 1.22314355 1.51082562 1.         1.91629073 1.91629073\n",
            " 1.         1.91629073 1.        ]\n"
          ]
        }
      ]
    },
    {
      "cell_type": "code",
      "source": [
        "print(\"sklearn's sparse output:\\n\",skl_output[0])\n",
        "print('custom tfidf sparse output:\\n',custom_output[0])\n",
        "print(\"\\nsklearn's dense output:\\n\",skl_output[0].toarray())\n",
        "print(\"\\ncustom tfidf dense output:\\n\",custom_output[0].toarray())"
      ],
      "metadata": {
        "colab": {
          "base_uri": "https://localhost:8080/"
        },
        "id": "eiqQu_dVT1p2",
        "outputId": "2f0e6c75-c2e2-4cde-b2d9-ef29da6b19e1"
      },
      "execution_count": null,
      "outputs": [
        {
          "output_type": "stream",
          "name": "stdout",
          "text": [
            "sklearn's sparse output:\n",
            "   (0, 8)\t0.38408524091481483\n",
            "  (0, 6)\t0.38408524091481483\n",
            "  (0, 3)\t0.38408524091481483\n",
            "  (0, 2)\t0.5802858236844359\n",
            "  (0, 1)\t0.46979138557992045\n",
            "custom tfidf sparse output:\n",
            "   (0, 1)\t0.4697913855799205\n",
            "  (0, 2)\t0.580285823684436\n",
            "  (0, 3)\t0.3840852409148149\n",
            "  (0, 6)\t0.3840852409148149\n",
            "  (0, 8)\t0.3840852409148149\n",
            "\n",
            "sklearn's dense output:\n",
            " [[0.         0.46979139 0.58028582 0.38408524 0.         0.\n",
            "  0.38408524 0.         0.38408524]]\n",
            "\n",
            "custom tfidf dense output:\n",
            " [[0.         0.46979139 0.58028582 0.38408524 0.         0.\n",
            "  0.38408524 0.         0.38408524]]\n"
          ]
        }
      ]
    }
  ]
}